{
  "nbformat": 4,
  "nbformat_minor": 0,
  "metadata": {
    "colab": {
      "name": "Untitled4.ipynb",
      "provenance": [],
      "authorship_tag": "ABX9TyPRgvC1W6L2Y/Shb7vKzpH7",
      "include_colab_link": true
    },
    "kernelspec": {
      "name": "python3",
      "display_name": "Python 3"
    }
  },
  "cells": [
    {
      "cell_type": "markdown",
      "metadata": {
        "id": "view-in-github",
        "colab_type": "text"
      },
      "source": [
        "<a href=\"https://colab.research.google.com/github/MuhammadNaufalAdiapasa/Pemograman_Python/blob/main/Tugas12_MuhammadNaufalAdiapasa_1101184280.ipynb\" target=\"_parent\"><img src=\"https://colab.research.google.com/assets/colab-badge.svg\" alt=\"Open In Colab\"/></a>"
      ]
    },
    {
      "cell_type": "code",
      "metadata": {
        "id": "YPrZUrBuqs9k"
      },
      "source": [
        "import numpy as MNaufalAdiapasa"
      ],
      "execution_count": 1,
      "outputs": []
    },
    {
      "cell_type": "code",
      "metadata": {
        "id": "jr4qZPsJq8a-"
      },
      "source": [
        "#c1_value = fc\r\n",
        "def c1(c1_value) :\r\n",
        "  if c1_value in range(400,1500) :\r\n",
        "    return 69.55\r\n",
        "  elif c1_value in range(1500,2000) :\r\n",
        "    return 46.3\r\n",
        "  else : return 0"
      ],
      "execution_count": 2,
      "outputs": []
    },
    {
      "cell_type": "code",
      "metadata": {
        "id": "gl8TizPnrB8R"
      },
      "source": [
        "#c2_value = fc\r\n",
        "def c2(c2_value):\r\n",
        "  if c2_value in range(400,1500):\r\n",
        "    return 26.16\r\n",
        "  elif c2_value in range(1500,2000):\r\n",
        "    return 33.9\r\n",
        "  else: return 0"
      ],
      "execution_count": 3,
      "outputs": []
    },
    {
      "cell_type": "code",
      "metadata": {
        "id": "wXTuFs9LrE2R"
      },
      "source": [
        "def ahr(fc,hr):\r\n",
        "  x=(1.1*MNaufalAdiapasa.log10(fc)-0.7)*hr-(1.56*MNaufalAdiapasa.log10(fc)-0.8)\r\n",
        "  return x"
      ],
      "execution_count": 4,
      "outputs": []
    },
    {
      "cell_type": "code",
      "metadata": {
        "id": "gxS2hGFbrNOw"
      },
      "source": [
        "#suburban\r\n",
        "SbN = lambda x: -2*MNaufalAdiapasa.log10(x/28)*MNaufalAdiapasa.log10(x/28)-5.4"
      ],
      "execution_count": 5,
      "outputs": []
    },
    {
      "cell_type": "code",
      "metadata": {
        "id": "XTe-gOgTrWwW"
      },
      "source": [
        "#open\r\n",
        "Op = lambda x: -4.78*MNaufalAdiapasa.log10(x)*MNaufalAdiapasa.log10(x)+18.33*MNaufalAdiapasa.log10(x)-40.94"
      ],
      "execution_count": 6,
      "outputs": []
    },
    {
      "cell_type": "code",
      "metadata": {
        "id": "P9S1P6RzrfOv"
      },
      "source": [
        "def Ptl(fc,hT,hr,d,Cm):\r\n",
        "  #mencari nilai c1 dari frekuensi\r\n",
        "  C1=c1(fc)\r\n",
        "  #mencari nilai c2 dari frekuensi\r\n",
        "  C2=c2(fc)\r\n",
        "  #mencari nilai a(hR)\r\n",
        "  ahR=ahr(fc,hr)\r\n",
        "\r\n",
        "  #rumus cost 231 pathloss model\r\n",
        "  Lp=C1+C2*MNaufalAdiapasa.log10(fc)-13.83*MNaufalAdiapasa.log10(hT)-ahR+(44.9-6.55*MNaufalAdiapasa.log10(hT))*MNaufalAdiapasa.log10(d)+Cm\r\n",
        "  print(Lp)\r\n",
        "  return Lp"
      ],
      "execution_count": 7,
      "outputs": []
    },
    {
      "cell_type": "code",
      "metadata": {
        "colab": {
          "base_uri": "https://localhost:8080/"
        },
        "id": "kYD9untVrp5l",
        "outputId": "9c7bb4a2-3060-4d91-e78f-a0968c99e2a9"
      },
      "source": [
        "fc=int(input(\"Frekuensi (150 s.d 2000): \"))    #Mhz 150 s.d 2000\r\n",
        "hT=int(input(\"Tinggi Antena Pengirim (30 s.d 200): \"))     #meter 30 s.d 200\r\n",
        "hr=int(input(\"Tinggi Antena Penerima (1 s.d 30): \"))     #meter 1 s.d 30 \r\n",
        "d=int(input(\"Jarak : \"))      #Km\r\n",
        "# 1=urban   2=suburban    3=open\r\n",
        "area=int(input(\"Masukkan Area (1=Urban || 2=Suburban || 3=Open) : \"))    \r\n",
        "\r\n",
        "#mendapatkan nilai Cm berdasarkan area\r\n",
        "if area==1:\r\n",
        "  Cm=0\r\n",
        "elif area==2:\r\n",
        "  Cm=SbN(fc)\r\n",
        "elif area==3:\r\n",
        "  Cm=Op(fc)\r\n",
        "else: print(\"Tidak Ada Pilihan\")\r\n",
        "\r\n",
        "#menghitung pathloss\r\n",
        "Lp=Ptl(fc, hT, hr, d, Cm)\r\n",
        "print(\"Nilai Pathloss dalam dB =\", Lp,\"dB\")"
      ],
      "execution_count": 8,
      "outputs": [
        {
          "output_type": "stream",
          "text": [
            "Frekuensi (150 s.d 2000): 150\n",
            "Tinggi Antena Pengirim (30 s.d 200): 31\n",
            "Tinggi Antena Penerima (1 s.d 30): 25\n",
            "Jarak : 1\n",
            "Masukkan Area (1=Urban || 2=Suburban || 3=Open) : 1\n",
            "-60.37333948563237\n",
            "Nilai Pathloss dalam dB = -60.37333948563237 dB\n"
          ],
          "name": "stdout"
        }
      ]
    }
  ]
}