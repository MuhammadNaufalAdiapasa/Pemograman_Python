{
  "nbformat": 4,
  "nbformat_minor": 0,
  "metadata": {
    "colab": {
      "name": "Untitled5.ipynb",
      "provenance": [],
      "authorship_tag": "ABX9TyPYENsUrnTQcGpcVPUIXmpn",
      "include_colab_link": true
    },
    "kernelspec": {
      "name": "python3",
      "display_name": "Python 3"
    }
  },
  "cells": [
    {
      "cell_type": "markdown",
      "metadata": {
        "id": "view-in-github",
        "colab_type": "text"
      },
      "source": [
        "<a href=\"https://colab.research.google.com/github/MuhammadNaufalAdiapasa/Pemograman_Python/blob/main/Tugas13%20Pyhton_Muhammad%20Naufal%20Adiapasa_1101184280_TT-42-11.ipynb\" target=\"_parent\"><img src=\"https://colab.research.google.com/assets/colab-badge.svg\" alt=\"Open In Colab\"/></a>"
      ]
    },
    {
      "cell_type": "code",
      "metadata": {
        "id": "4XUyzaXShkar"
      },
      "source": [
        "import numpy as np\r\n",
        "import matplotlib.pyplot as plt"
      ],
      "execution_count": 99,
      "outputs": []
    },
    {
      "cell_type": "code",
      "metadata": {
        "id": "JAACoF6NiCRj"
      },
      "source": [
        "def cos(frek,tipe,ht,hr,d):\r\n",
        "  #frek = frekuensi (MHz)\r\n",
        "  #tipe = urban, suburban, open\r\n",
        "  #ht = tinggi tower (meter)\r\n",
        "  #hr = tinggi user (meter)\r\n",
        "  #d = jarak (meter)\r\n",
        "    if frek in range(150,1501):\r\n",
        "        Ca=69.55\r\n",
        "        Cb=26.16\r\n",
        "    elif frek in range(1501,2001):\r\n",
        "        Ca=46.3\r\n",
        "        Cb=33.9\r\n",
        "    \r\n",
        "    if tipe=='urban' :\r\n",
        "        Cm=0\r\n",
        "    elif tipe=='suburban' :\r\n",
        "        Cm= -2*((np.log10((frek/28)**2))-5.4)\r\n",
        "    elif tipe=='open' :\r\n",
        "        Cm= -4.78*(np.log10(frek))+18.33*(np.log10(frek))-40.94\r\n",
        "    else :\r\n",
        "        Cm='tipe salah'\r\n",
        "    \r\n",
        "    ahr = (1.1*np.log10(frek)-0.7)*hr-(1.56*np.log10(frek)-1.8)\r\n",
        "    Lp = Ca+(Cb*np.log10(frek))-(13.83*np.log(ht))-ahr+((44.9-6.55*np.log10(ht))*np.log10(d))-Cm\r\n",
        "    \r\n",
        "    return Lp"
      ],
      "execution_count": 100,
      "outputs": []
    },
    {
      "cell_type": "code",
      "metadata": {
        "id": "PgKkZBTbiK9y"
      },
      "source": [
        "f=1800 #MHz\r\n",
        "loc='urban'\r\n",
        "tower=80 #m\r\n",
        "user=1.5 #m\r\n",
        "dmin=200 #m\r\n",
        "dmax=700 #m\r\n",
        "N=200 #titik\r\n",
        "d=np.random.randint(dmin,dmax,N)"
      ],
      "execution_count": 101,
      "outputs": []
    },
    {
      "cell_type": "code",
      "metadata": {
        "colab": {
          "base_uri": "https://localhost:8080/"
        },
        "id": "pC7Fks3eiOIy",
        "outputId": "391dacee-87b3-45c5-840c-410b48a735b5"
      },
      "source": [
        "print(d)"
      ],
      "execution_count": 102,
      "outputs": [
        {
          "output_type": "stream",
          "text": [
            "[484 538 258 565 210 624 313 688 662 586 213 462 697 364 431 503 607 280\n",
            " 250 216 347 574 596 450 467 585 277 303 424 242 543 693 438 291 569 545\n",
            " 224 321 686 474 459 466 621 333 470 461 464 479 443 435 627 313 616 393\n",
            " 429 595 318 210 277 376 316 533 656 671 323 681 438 297 351 660 462 320\n",
            " 237 602 431 323 649 370 377 628 499 507 498 607 647 378 277 488 249 496\n",
            " 603 441 484 549 489 379 366 612 402 291 664 251 532 412 671 512 689 346\n",
            " 693 690 526 660 408 499 315 413 207 254 558 210 598 238 361 230 440 211\n",
            " 415 646 397 536 438 519 313 664 374 285 503 234 503 461 344 205 617 668\n",
            " 391 677 481 365 671 585 345 469 252 493 368 549 448 507 666 521 649 529\n",
            " 690 584 349 652 550 668 482 263 272 538 525 616 453 432 318 672 599 457\n",
            " 656 398 231 202 665 380 401 402 587 399 284 378 330 395 488 332 228 554\n",
            " 546 258]\n"
          ],
          "name": "stdout"
        }
      ]
    },
    {
      "cell_type": "code",
      "metadata": {
        "id": "ALcvgZgDiSjF"
      },
      "source": [
        "LpUrban=cos(f,loc,tower,user,d)"
      ],
      "execution_count": 103,
      "outputs": []
    },
    {
      "cell_type": "code",
      "metadata": {
        "colab": {
          "base_uri": "https://localhost:8080/"
        },
        "id": "6fGo3U-qiUuA",
        "outputId": "17f1392b-902b-4efb-fb73-20320a583ee4"
      },
      "source": [
        "print(LpUrban)"
      ],
      "execution_count": 104,
      "outputs": [
        {
          "output_type": "stream",
          "text": [
            "[182.08965155 183.57960436 173.22764283 184.26936756 170.32796189\n",
            " 185.668478   175.94971816 187.04383667 186.50118857 184.78343154\n",
            " 170.52777003 181.43435956 187.22690949 178.07604525 180.45597456\n",
            " 182.63204584 185.2793939  174.3803199  172.78394512 170.72478356\n",
            " 177.40231336 184.49198175 185.02178304 181.06364771 181.58598899\n",
            " 184.75937306 174.22858158 175.4923326  180.22531757 172.32581571\n",
            " 183.70991276 187.14583739 180.68291541 174.92311425 184.36874179\n",
            " 183.76170046 171.23706683 176.30522567 187.00282867 181.79556493\n",
            " 181.34259222 181.5557934  185.60059238 176.82220984 181.67618932\n",
            " 181.40383683 181.49520734 181.94337571 180.84280631 180.5861024\n",
            " 185.73603802 175.94971816 185.48671757 179.15583628 180.39045706\n",
            " 184.99812856 176.17295956 170.32796189 174.22858158 178.53293625\n",
            " 176.0840871  183.44807925 186.37293666 186.69140322 176.39271811\n",
            " 186.89978332 180.68291541 175.21059846 177.56376198 186.45856755\n",
            " 181.43435956 176.26127482 172.03172909 185.16288176 180.45597456\n",
            " 176.39271811 186.22181849 178.30634309 178.57034992 185.75848621\n",
            " 182.51958027 182.74362058 182.49132302 185.2793939  186.17834241\n",
            " 178.60766448 174.22858158 182.20558832 172.72748718 182.43463788\n",
            " 185.18626141 180.77906757 182.08965155 183.86470814 182.23442403\n",
            " 178.64488045 178.15323031 185.39495023 179.47478358 174.92311425\n",
            " 186.54368103 172.84017768 183.42162621 179.8209002  186.69140322\n",
            " 182.88185758 187.06429599 177.36166041 187.14583739 187.08472564\n",
            " 183.26185621 186.45856755 179.6834724  182.51958027 176.03943972\n",
            " 179.85504867 170.12527872 173.00754089 184.0937577  170.32796189\n",
            " 185.06897316 172.09103965 177.95946883 171.60941197 180.74708972\n",
            " 170.39488001 179.92309826 186.15655395 179.29848294 183.52714159\n",
            " 180.68291541 183.07313824 175.94971816 186.54368103 178.45780947\n",
            " 174.62964035 182.63204584 171.85228415 182.63204584 181.40383683\n",
            " 177.28000084 169.98851806 185.5095663  186.62828331 179.08396756\n",
            " 186.81680082 182.00206845 178.11469065 186.69140322 184.75937306\n",
            " 177.3208898  181.64618668 172.89618665 182.34918016 178.22999474\n",
            " 183.86470814 181.00090267 182.74362058 186.58604568 183.12731614\n",
            " 186.22181849 183.34196773 187.08472564 184.73527342 177.48326897\n",
            " 186.28678204 183.89034279 186.62828331 182.03132336 173.49802037\n",
            " 173.97199457 183.57960436 183.2350508  185.48671757 181.15724431\n",
            " 180.48861939 176.17295956 186.7123805  185.09250907 181.28108017\n",
            " 186.37293666 179.33392003 171.67052372 169.78085477 186.56487928\n",
            " 178.68199836 179.43969953 179.47478358 184.807449   179.3692682\n",
            " 174.58012804 178.60766448 176.69473171 179.22734017 182.20558832\n",
            " 176.77984519 171.48638728 183.99241742 183.78752308 173.22764283]\n"
          ],
          "name": "stdout"
        }
      ]
    },
    {
      "cell_type": "code",
      "metadata": {
        "id": "M3255q4KiXt-"
      },
      "source": [
        "d_sort=d[np.argsort(d)]\r\n",
        "Urban_sort=LpUrban[np.argsort(d)]"
      ],
      "execution_count": 105,
      "outputs": []
    },
    {
      "cell_type": "code",
      "metadata": {
        "id": "ADck0O-PieBX"
      },
      "source": [
        "f=1800 #MHz\r\n",
        "loc='suburban'\r\n",
        "tower=80 #m\r\n",
        "user=1.5 #m\r\n",
        "dmin=200 #m\r\n",
        "dmax=700 #m\r\n",
        "N=200 #titik\r\n",
        "a=np.random.randint(dmin,dmax,N)"
      ],
      "execution_count": 106,
      "outputs": []
    },
    {
      "cell_type": "code",
      "metadata": {
        "colab": {
          "base_uri": "https://localhost:8080/"
        },
        "id": "V0ukKoJOigoQ",
        "outputId": "4b20a317-9b3d-4645-d1d5-218b98d3f214"
      },
      "source": [
        "print(a)"
      ],
      "execution_count": 107,
      "outputs": [
        {
          "output_type": "stream",
          "text": [
            "[267 223 331 507 677 218 585 515 620 552 657 567 485 548 663 570 693 295\n",
            " 371 242 229 451 546 406 669 437 205 496 662 531 268 530 341 405 361 440\n",
            " 251 217 557 444 393 340 589 575 267 485 202 276 336 441 501 505 549 259\n",
            " 222 546 417 457 598 599 281 382 399 412 658 365 432 544 565 443 552 329\n",
            " 227 389 433 485 481 535 437 268 548 268 674 627 389 580 667 204 626 619\n",
            " 385 659 419 259 507 352 559 394 337 461 585 463 633 423 254 558 676 408\n",
            " 344 560 641 418 623 593 528 595 262 643 221 287 528 353 231 298 456 521\n",
            " 217 221 605 595 599 498 691 282 334 450 556 598 515 305 672 611 348 298\n",
            " 234 420 283 234 591 424 274 460 595 591 281 626 547 464 476 324 336 382\n",
            " 643 379 540 373 658 604 667 365 504 465 415 680 207 619 424 593 532 225\n",
            " 618 481 368 693 539 265 402 286 368 463 549 312 487 418 579 462 423 540\n",
            " 613 637]\n"
          ],
          "name": "stdout"
        }
      ]
    },
    {
      "cell_type": "code",
      "metadata": {
        "id": "RYEujtHxiicW"
      },
      "source": [
        "Lpsuburban=cos(f,loc,tower,user,a)"
      ],
      "execution_count": 108,
      "outputs": []
    },
    {
      "cell_type": "code",
      "metadata": {
        "colab": {
          "base_uri": "https://localhost:8080/"
        },
        "id": "r_x3pmXuiidH",
        "outputId": "9de3bdda-195e-49b5-a0b6-5acd5628835e"
      },
      "source": [
        "print(Lpsuburban)"
      ],
      "execution_count": 109,
      "outputs": [
        {
          "output_type": "stream",
          "text": [
            "[170.14310475 167.60649895 173.16981063 179.17607848 183.24925872\n",
            " 167.28706944 181.19183095 179.39661116 182.01034884 180.37393046\n",
            " 182.82685113 180.7516002  178.55118322 180.27148464 182.95490872\n",
            " 180.82593408 183.57829529 171.54787871 174.77682055 168.75827361\n",
            " 167.98049183 177.52737362 180.21998098 176.04671031 183.08181262\n",
            " 177.08317617 166.42097595 178.86709577 182.93364647 179.8275813\n",
            " 170.19576365 179.80102853 173.58907484 176.01197235 174.39192672\n",
            " 177.17954762 169.27263557 167.22230502 180.50094879 177.30702575\n",
            " 175.58829417 173.54770554 181.28781931 180.94895877 170.14310475\n",
            " 178.55118322 166.21331267 170.61009462 173.38100255 177.21152547\n",
            " 179.00838319 179.12040158 180.29716603 169.714593   167.54318991\n",
            " 180.21998098 176.42327858 177.71353806 181.50143105 181.52496696\n",
            " 170.86299616 175.18839993 175.8017261  176.25335809 182.84827507\n",
            " 174.54714854 176.92107729 180.1682883  180.70182546 177.27526421\n",
            " 180.37393046 173.08443923 167.85692755 175.44418818 176.95364664\n",
            " 178.55118322 178.43452634 179.93329465 177.08317617 170.19576365\n",
            " 180.27148464 170.19576365 183.18669946 182.16849591 175.44418818\n",
            " 181.0709183  183.03963822 166.35209446 182.14601189 181.98761076\n",
            " 175.2985927  182.86966647 176.49067697 169.714593   179.17607848\n",
            " 174.03629454 180.55143715 175.62409149 173.42286362 177.83629472\n",
            " 181.19183095 177.8972742  182.30265157 176.62451397 169.43999878\n",
            " 180.52621559 183.22843649 176.11593029 173.71245873 180.57661363\n",
            " 182.47956112 176.45701809 182.07834369 181.383158   179.74777237\n",
            " 181.43058646 169.87681634 182.52344351 167.47959505 171.1606038\n",
            " 179.74777237 174.07625553 168.10298162 171.6904051  177.68268101\n",
            " 179.55977404 167.22230502 167.47959505 181.66536252 181.43058646\n",
            " 181.52496696 178.92378091 183.53758359 170.91303614 173.29690536\n",
            " 177.4961056  180.47563659 181.50143105 179.39661116 172.01746345\n",
            " 183.14483839 181.80437257 173.87530722 171.6904051  168.28474204\n",
            " 176.52425562 170.96289898 168.28474204 181.33556932 176.65777546\n",
            " 170.50764881 177.8057057  181.43058646 181.33556932 170.86299616\n",
            " 182.14601189 180.24575635 177.92766523 178.28733339 172.86871928\n",
            " 173.38100255 175.18839993 182.52344351 175.07733835 180.06433036\n",
            " 174.85255319 182.84827507 181.64206022 183.03963822 174.54714854\n",
            " 179.09248038 177.95799083 176.35555615 183.31154137 166.55773661\n",
            " 181.98761076 176.65777546 181.383158   179.8540841  167.73226976\n",
            " 181.96483592 178.43452634 174.66245263 183.57829529 180.03822055\n",
            " 170.0371927  175.90724148 171.11143713 174.66245263 177.8972742\n",
            " 180.29716603 172.33710005 178.60915136 176.45701809 181.04661072\n",
            " 177.86681746 176.62451397 180.06433036 181.85040607 182.39138407]\n"
          ],
          "name": "stdout"
        }
      ]
    },
    {
      "cell_type": "code",
      "metadata": {
        "id": "8xnUHbNEimf4"
      },
      "source": [
        "a_sort=a[np.argsort(a)]\r\n",
        "suburban_sort=Lpsuburban[np.argsort(a)]"
      ],
      "execution_count": 110,
      "outputs": []
    },
    {
      "cell_type": "code",
      "metadata": {
        "id": "c97YS0FSioZs"
      },
      "source": [
        "f=1800 #MHz\r\n",
        "loc='open'\r\n",
        "tower=80 #m\r\n",
        "user=1.5 #m\r\n",
        "dmin=200 #m\r\n",
        "dmax=700 #m\r\n",
        "N=200 #titik\r\n",
        "b=np.random.randint(dmin,dmax,N)"
      ],
      "execution_count": 111,
      "outputs": []
    },
    {
      "cell_type": "code",
      "metadata": {
        "colab": {
          "base_uri": "https://localhost:8080/"
        },
        "id": "0SfdHM41iqGL",
        "outputId": "33b69140-5136-4cc9-d54b-ba694031e2a7"
      },
      "source": [
        "print(b)"
      ],
      "execution_count": 112,
      "outputs": [
        {
          "output_type": "stream",
          "text": [
            "[604 211 667 483 365 661 255 618 646 650 689 635 211 259 307 544 273 588\n",
            " 259 361 512 220 603 346 267 639 640 624 383 274 546 534 464 535 365 263\n",
            " 571 295 550 646 265 501 595 553 226 326 203 642 655 607 289 274 625 426\n",
            " 446 305 598 517 547 336 311 699 297 570 551 554 221 560 232 348 671 639\n",
            " 628 403 671 652 293 280 610 466 484 462 251 235 619 554 446 365 609 428\n",
            " 415 540 648 619 474 627 269 593 447 487 663 299 301 597 570 268 662 686\n",
            " 579 484 251 546 433 427 256 552 625 273 463 256 448 292 610 307 484 679\n",
            " 627 287 394 550 587 630 442 584 544 421 605 309 363 547 615 610 413 215\n",
            " 291 584 413 546 389 401 231 668 660 351 699 677 520 201 633 572 344 548\n",
            " 502 250 654 561 226 672 354 460 603 289 246 374 282 478 645 420 230 469\n",
            " 659 616 398 457 681 312 308 389 547 202 368 413 256 497 355 535 442 576\n",
            " 347 387]\n"
          ],
          "name": "stdout"
        }
      ]
    },
    {
      "cell_type": "code",
      "metadata": {
        "id": "bQykrUS8ir3o"
      },
      "source": [
        "Lpopen=cos(f,loc,tower,user,b)"
      ],
      "execution_count": 113,
      "outputs": []
    },
    {
      "cell_type": "code",
      "metadata": {
        "colab": {
          "base_uri": "https://localhost:8080/"
        },
        "id": "mVfiv7opivH-",
        "outputId": "f250b7b7-5053-429d-8bd1-f4a5ef3cd69d"
      },
      "source": [
        "print(Lpopen)"
      ],
      "execution_count": 114,
      "outputs": [
        {
          "output_type": "stream",
          "text": [
            "[182.04065988 167.22593757 183.43823788 178.89157521 174.9457482\n",
            " 183.31095174 169.89394719 182.36343558 182.98761151 183.07456387\n",
            " 183.89535355 182.74568735 167.22593757 170.11319266 172.50813035\n",
            " 180.56688796 170.8547448  181.66248314 170.11319266 174.79052638\n",
            " 179.71291514 167.81431144 182.01731897 174.19271797 170.54170442\n",
            " 182.83414125 182.85616821 182.49953555 175.62382637 170.90624847\n",
            " 180.61858064 180.30554025 178.32626489 180.33189431 174.9457482\n",
            " 170.32907792 181.24922479 171.94647837 180.72140035 182.98761151\n",
            " 170.43579236 179.40698285 181.82918612 180.79802558 168.19333621\n",
            " 173.35400375 166.68147414 182.90011907 183.18250491 182.11045145\n",
            " 171.65702495 170.90624847 182.52209158 177.12266342 177.76893445\n",
            " 172.41606311 181.90003072 179.84980871 180.64435601 173.77960221\n",
            " 172.69047901 184.09832878 172.04165601 181.22453374 180.74698843\n",
            " 180.82347498 167.87819471 180.97521329 168.56242905 174.27390688\n",
            " 183.52246078 182.83414125 182.58954377 176.34083802 183.52246078\n",
            " 183.11783959 171.85065326 171.21137746 182.17989895 178.38685095\n",
            " 178.92070911 178.26541712 169.67123523 168.74341104 182.38621042\n",
            " 180.82347498 177.76893445 174.9457482  182.1567878  177.18864124\n",
            " 176.75415581 180.46293002 183.03115478 182.38621042 178.62662249\n",
            " 182.56709558 170.64682608 181.78175766 177.80048259 179.00775102\n",
            " 183.35350838 172.13619488 172.23010347 181.87645542 181.22453374\n",
            " 170.59436331 183.33224613 183.83388623 181.44521038 178.92070911\n",
            " 169.67123523 180.61858064 177.3522463  177.15569096 169.9490793\n",
            " 180.77253012 182.52209158 170.8547448  178.29587386 169.9490793\n",
            " 177.83196022 171.80249513 182.17989895 172.50813035 178.92070911\n",
            " 183.68941073 182.56709558 171.55920346 176.02269115 180.72140035\n",
            " 181.63850656 182.63433311 177.64203055 181.56633097 180.56688796\n",
            " 176.95635408 182.06396218 172.59959974 174.8683511  180.64435601\n",
            " 182.29488928 182.17989895 176.68610622 167.49047562 171.7541718\n",
            " 181.56633097 176.68610622 180.61858064 175.84278784 176.27075709\n",
            " 168.50158128 183.45934086 183.2896251  174.39481953 184.09832878\n",
            " 183.64785838 179.9313108  166.5420053  182.70125123 181.27387263\n",
            " 174.11105839 180.67008431 179.43507107 169.61500267 183.16098277\n",
            " 181.00034486 168.19333621 183.54343805 174.51470313 178.20430536\n",
            " 182.01731897 171.65702495 169.38780037 175.28886703 171.3116358\n",
            " 178.74499493 182.96578929 176.92285529 168.44046952 178.47724423\n",
            " 183.26826614 182.31777513 176.16497759 178.11213772 183.73084087\n",
            " 172.73569972 172.55393929 175.84278784 180.64435601 166.61191233\n",
            " 175.06105229 176.68610622 169.9490793  179.29406652 174.55443866\n",
            " 180.33189431 177.64203055 181.37203496 174.23337092 175.77017821]\n"
          ],
          "name": "stdout"
        }
      ]
    },
    {
      "cell_type": "code",
      "metadata": {
        "id": "nk24cG3Giyyw"
      },
      "source": [
        "b_sort=b[np.argsort(b)]\r\n",
        "open_sort=Lpopen[np.argsort(b)]"
      ],
      "execution_count": 115,
      "outputs": []
    },
    {
      "cell_type": "code",
      "metadata": {
        "colab": {
          "base_uri": "https://localhost:8080/",
          "height": 295
        },
        "id": "uPSwDBmgi1sD",
        "outputId": "3eac73bc-152d-43a8-da53-9563e2470f25"
      },
      "source": [
        "plt.figure()\r\n",
        "plt.plot(d_sort,Urban_sort, label='Urban')\r\n",
        "plt.plot(b_sort,open_sort, label='Open')\r\n",
        "plt.plot(a_sort,suburban_sort, label='Suburban')\r\n",
        "plt.legend()\r\n",
        "plt.title('FREKUENSI 1800 MHZ (GAMBAR CONTOH)')\r\n",
        "plt.xlabel('Jarak (m)')\r\n",
        "plt.ylabel('Path Loss (dB)')\r\n",
        "plt.show()"
      ],
      "execution_count": 116,
      "outputs": [
        {
          "output_type": "display_data",
          "data": {
            "image/png": "[encoded data removed]",
            "text/plain": [
              "<Figure size 432x288 with 1 Axes>"
            ]
          },
          "metadata": {
            "tags": [],
            "needs_background": "light"
          }
        }
      ]
    },
    {
      "cell_type": "code",
      "metadata": {
        "id": "0EIzQZZejC85"
      },
      "source": [
        "f=1800 #MHz\r\n",
        "loc='urban'\r\n",
        "tower=80 #m\r\n",
        "user=1.5 #m\r\n",
        "dmin=200 #m\r\n",
        "dmax=700 #m\r\n",
        "N=200 #titik\r\n",
        "x=np.random.randint(dmin,dmax,N)"
      ],
      "execution_count": 119,
      "outputs": []
    },
    {
      "cell_type": "code",
      "metadata": {
        "colab": {
          "base_uri": "https://localhost:8080/"
        },
        "id": "aSVVAkTCjFWX",
        "outputId": "30fe19b3-40cf-491d-fd3a-eb0aecde8a23"
      },
      "source": [
        "print(x)"
      ],
      "execution_count": 120,
      "outputs": [
        {
          "output_type": "stream",
          "text": [
            "[602 431 637 584 658 345 381 383 381 348 423 263 442 299 595 614 496 477\n",
            " 395 299 448 526 573 699 448 453 555 530 467 467 439 312 614 230 292 204\n",
            " 224 283 384 517 670 389 291 401 616 233 587 243 510 523 292 295 647 561\n",
            " 247 519 493 326 289 689 245 551 488 312 489 236 563 264 634 259 348 502\n",
            " 533 667 592 388 667 481 522 256 531 417 425 377 378 385 320 319 288 225\n",
            " 536 529 321 596 426 410 642 329 668 498 656 208 201 409 596 634 433 447\n",
            " 221 272 668 590 259 522 582 356 332 345 288 242 386 630 649 436 556 613\n",
            " 449 597 417 277 551 687 250 536 542 325 644 373 268 625 614 523 241 451\n",
            " 291 297 615 640 427 520 463 658 436 537 592 588 307 448 278 368 244 347\n",
            " 328 481 471 472 338 264 339 224 477 341 366 438 447 321 625 377 643 291\n",
            " 599 467 491 386 352 476 572 402 342 615 369 590 244 334 221 689 616 280\n",
            " 346 499]\n"
          ],
          "name": "stdout"
        }
      ]
    },
    {
      "cell_type": "code",
      "metadata": {
        "id": "_dm2g21EjHNP"
      },
      "source": [
        "LpUrban1=cos(f,loc,tower,user,x)"
      ],
      "execution_count": 121,
      "outputs": []
    },
    {
      "cell_type": "code",
      "metadata": {
        "colab": {
          "base_uri": "https://localhost:8080/"
        },
        "id": "FrdvKl4NjIyp",
        "outputId": "050f5197-b665-4bef-f345-c07ef8ab8507"
      },
      "source": [
        "print(LpUrban1)"
      ],
      "execution_count": 122,
      "outputs": [
        {
          "output_type": "stream",
          "text": [
            "[185.16288176 180.45597456 185.95892618 184.73527342 186.41581717\n",
            " 177.3208898  178.71901871 178.79276882 178.71901871 177.44284933\n",
            " 180.19205607 173.49802037 180.81097299 175.30513732 184.99812856\n",
            " 185.44090863 182.43463788 181.88443739 179.22734017 175.30513732\n",
            " 181.00090267 183.26185621 184.46741986 187.26727123 181.00090267\n",
            " 181.15724431 184.01782092 183.36857064 181.58598899 181.58598899\n",
            " 180.71503911 175.90464216 185.44090863 171.60941197 174.97143758\n",
            " 169.91963656 171.23706683 174.53044108 178.82949958 183.01875116\n",
            " 186.67039466 179.01173029 174.92311425 179.43969953 185.48671757\n",
            " 171.79195756 184.807449   172.38390337 182.82672547 183.18128647\n",
            " 174.97143758 175.11542082 186.17834241 184.1692873  172.61388787\n",
            " 183.07313824 182.34918016 176.5229462  174.82596739 187.06429599\n",
            " 172.49936498 183.91593088 182.20558832 175.90464216 182.23442403\n",
            " 171.97216775 184.21941631 173.55147864 185.89242926 173.28213511\n",
            " 177.44284933 182.60401352 183.44807925 186.60718033 184.92692586\n",
            " 178.97547226 186.60718033 182.00206845 183.15432715 173.11802175\n",
            " 183.3951234  179.99082068 180.25850071 178.57034992 178.60766448\n",
            " 178.8661348  176.26127482 176.2171864  174.77714157 171.29981187\n",
            " 183.52714159 183.34196773 176.30522567 185.02178304 180.29160587\n",
            " 179.75235389 186.06906151 176.65198134 186.62828331 182.49132302\n",
            " 186.37293666 170.19316433 169.71094774 179.71795525 185.02178304\n",
            " 185.89242926 180.52118874 180.96942503 171.04713715 173.97199457\n",
            " 186.62828331 184.87925665 173.28213511 183.15432715 184.68695008\n",
            " 177.76300487 176.77984519 177.3208898  174.77714157 172.32581571\n",
            " 178.902675   185.80327556 186.22181849 180.61844739 184.04317869\n",
            " 185.41794817 181.03231012 185.04539786 179.99082068 174.22858158\n",
            " 183.91593088 187.0233476  172.78394512 183.52714159 183.68394734\n",
            " 176.47967047 186.11287566 178.42009529 173.76330575 185.69103403\n",
            " 185.44090863 183.18128647 172.26748753 181.09491573 174.92311425\n",
            " 175.21059846 185.46383172 186.02511066 180.3246334  183.10025324\n",
            " 181.4648163  186.41581717 180.61844739 183.5533974  184.92692586\n",
            " 184.83142558 175.67707279 181.00090267 174.27934286 178.22999474\n",
            " 172.44175248 177.40231336 176.60910082 182.00206845 181.7061282\n",
            " 181.73600358 177.03214275 173.55147864 177.07375648 171.23706683\n",
            " 181.88443739 177.15661694 178.15323031 180.68291541 180.96942503\n",
            " 176.30522567 185.69103403 178.57034992 186.09098562 174.92311425\n",
            " 185.09250907 181.58598899 182.29191895 178.902675   177.60383665\n",
            " 181.85487549 184.44281507 179.47478358 177.19786511 185.46383172\n",
            " 178.26822064 184.87925665 172.44175248 176.86444747 171.04713715\n",
            " 187.06429599 185.48671757 174.3803199  177.36166041 182.51958027]\n"
          ],
          "name": "stdout"
        }
      ]
    },
    {
      "cell_type": "code",
      "metadata": {
        "id": "MD6SnRr6jLAI"
      },
      "source": [
        "x_sort=x[np.argsort(x)]\r\n",
        "Urban_sort1=LpUrban1[np.argsort(x)]"
      ],
      "execution_count": 123,
      "outputs": []
    },
    {
      "cell_type": "code",
      "metadata": {
        "id": "Vqu3shbHjNNy"
      },
      "source": [
        "f=900 #MHz\r\n",
        "loc='urban'\r\n",
        "tower=80 #m\r\n",
        "user=1.5 #m\r\n",
        "dmin=200 #m\r\n",
        "dmax=700 #m\r\n",
        "N=200 #titik\r\n",
        "y=np.random.randint(dmin,dmax,N)"
      ],
      "execution_count": 124,
      "outputs": []
    },
    {
      "cell_type": "code",
      "metadata": {
        "colab": {
          "base_uri": "https://localhost:8080/"
        },
        "id": "sY-XRbN5jO8w",
        "outputId": "1d7aa82b-be92-4821-f617-fa774f716a00"
      },
      "source": [
        "print(y)"
      ],
      "execution_count": 125,
      "outputs": [
        {
          "output_type": "stream",
          "text": [
            "[603 629 395 315 698 593 414 454 401 503 630 272 493 588 507 216 267 546\n",
            " 561 622 237 398 611 613 200 570 387 337 496 398 566 243 542 643 616 398\n",
            " 337 654 261 562 280 633 313 338 444 402 388 318 680 527 280 459 540 427\n",
            " 203 598 296 652 616 654 525 585 316 223 442 345 242 399 270 547 279 348\n",
            " 247 359 304 478 328 573 363 590 416 654 458 520 323 693 691 297 315 612\n",
            " 360 481 560 455 582 473 230 509 497 526 258 368 435 610 660 408 603 516\n",
            " 367 537 228 430 332 225 664 629 379 537 540 490 611 567 529 244 327 301\n",
            " 278 327 496 206 658 691 438 238 247 674 339 256 506 546 383 590 380 318\n",
            " 502 406 584 399 496 588 670 508 400 463 317 358 619 336 641 673 288 564\n",
            " 566 454 332 438 373 525 529 305 454 529 623 604 418 633 613 397 622 349\n",
            " 264 584 323 656 619 274 261 408 376 549 613 231 601 452 477 463 554 689\n",
            " 598 407]\n"
          ],
          "name": "stdout"
        }
      ]
    },
    {
      "cell_type": "code",
      "metadata": {
        "id": "9b9J5GDFjRGA"
      },
      "source": [
        "LpUrban2=cos(f,loc,tower,user,y)"
      ],
      "execution_count": 126,
      "outputs": []
    },
    {
      "cell_type": "code",
      "metadata": {
        "colab": {
          "base_uri": "https://localhost:8080/"
        },
        "id": "r_ZnbqxDjTB0",
        "outputId": "af1f97f2-583b-4028-c80a-83d579777cee"
      },
      "source": [
        "print(LpUrban2)"
      ],
      "execution_count": 127,
      "outputs": [
        {
          "output_type": "stream",
          "text": [
            "[175.39260023 175.98723751 169.433679   166.24577854 177.45344364\n",
            " 175.15703893 170.09545338 171.39464431 169.64603836 172.83838466\n",
            " 176.00961438 164.17833339 172.55551898 175.0377644  172.94995941\n",
            " 160.93112238 163.91698568 173.99386191 174.37562613 175.82959612\n",
            " 162.23806792 169.54025886 175.5782535  175.624287   159.84703087\n",
            " 174.59981501 169.14545948 167.19674455 172.6409767  169.54025886\n",
            " 174.50061574 162.5902422  173.89028616 176.29732444 175.6930564\n",
            " 169.54025886 167.19674455 176.53626404 163.59683014 174.40071293\n",
            " 164.58665872 176.0765325  166.15605698 167.23848158 171.08090668\n",
            " 169.68112241 169.18181108 166.37929838 177.0854223  173.49494953\n",
            " 164.58665872 171.54893104 173.83821129 170.53097223 160.0567554\n",
            " 175.27531198 165.36942885 176.49312086 175.6930564  176.53626404\n",
            " 173.44138962 174.96571188 166.29042593 161.38037988 171.01731182\n",
            " 167.52722862 162.53215454 169.57560702 164.07437545 174.01963728\n",
            " 164.53626068 167.64918815 162.8202267  168.08755058 165.74508411\n",
            " 172.1202762  166.81543965 174.67375868 168.24363237 175.08559548\n",
            " 170.16333899 176.53626404 171.51820859 173.30659206 166.59905694\n",
            " 177.35217621 177.31146452 165.41693728 166.24577854 175.60128905\n",
            " 168.12673346 172.20840727 174.35049456 171.42563715 174.89328891\n",
            " 171.97215456 161.81575079 173.00541711 172.66934778 173.46819503\n",
            " 163.43398165 168.43633356 170.79244122 175.55518021 176.66490637\n",
            " 169.88981122 175.39260023 173.19781749 168.39800364 173.75973622\n",
            " 161.6927261  170.62959273 166.98618401 161.50615069 176.75001985\n",
            " 175.98723751 168.85121927 173.75973622 173.83821129 172.46953965\n",
            " 175.5782535  174.52548113 173.54830655 162.6480913  166.7724282\n",
            " 165.60538474 164.48568168 166.7724282  172.6409767  160.26340318\n",
            " 176.622156   177.31146452 170.88925423 162.29737848 162.8202267\n",
            " 176.96058038 167.28009531 163.32436057 172.92214846 173.99386191\n",
            " 168.99910764 175.08559548 168.88833718 166.37929838 172.81035234\n",
            " 169.82059124 174.94161224 169.57560702 172.6409767  175.0377644\n",
            " 176.87673349 172.97771555 169.61086671 171.67115513 166.33493224\n",
            " 168.0482584  175.76149169 167.15488348 176.25344205 176.9396654\n",
            " 164.98348039 174.4507529  174.50061574 171.39464431 166.98618401\n",
            " 170.88925423 168.62643412 173.44138962 173.54830655 165.79134437\n",
            " 171.39464431 173.54830655 175.85222462 175.41594115 170.23089901\n",
            " 176.0765325  175.624287   169.50482176 175.82959612 167.6896078\n",
            " 163.75781746 174.94161224 166.59905694 176.57927549 175.76149169\n",
            " 164.28152974 163.59683014 169.88981122 168.73927508 174.07104696\n",
            " 175.624287   161.87686255 175.34580206 171.33245332 172.09077621\n",
            " 171.67115513 174.19875625 177.27063481 175.27531198 169.85524375]\n"
          ],
          "name": "stdout"
        }
      ]
    },
    {
      "cell_type": "code",
      "metadata": {
        "id": "ppQG0IyhjVbQ"
      },
      "source": [
        "y_sort=y[np.argsort(y)]\r\n",
        "Urban_sort2=LpUrban2[np.argsort(y)]"
      ],
      "execution_count": 128,
      "outputs": []
    },
    {
      "cell_type": "code",
      "metadata": {
        "id": "r1801B4MjXhI"
      },
      "source": [
        "f=700 #MHz\r\n",
        "loc='urban'\r\n",
        "tower=80 #m\r\n",
        "user=1.5 #m\r\n",
        "dmin=200 #m\r\n",
        "dmax=700 #m\r\n",
        "N=200 #titik\r\n",
        "z=np.random.randint(dmin,dmax,N)"
      ],
      "execution_count": 129,
      "outputs": []
    },
    {
      "cell_type": "code",
      "metadata": {
        "colab": {
          "base_uri": "https://localhost:8080/"
        },
        "id": "MQddeiUHjZVs",
        "outputId": "d8ff4c89-ae60-41c7-e083-c8e8ad3c9048"
      },
      "source": [
        "print(z)"
      ],
      "execution_count": 130,
      "outputs": [
        {
          "output_type": "stream",
          "text": [
            "[677 357 209 230 222 677 281 300 527 218 288 281 204 536 443 683 431 475\n",
            " 518 634 296 363 649 366 591 633 209 441 605 689 399 660 353 573 287 590\n",
            " 481 253 290 637 653 277 279 667 230 450 678 569 452 585 347 408 404 411\n",
            " 547 276 371 301 604 370 591 528 219 688 613 551 480 293 431 531 301 341\n",
            " 529 428 616 225 306 305 641 392 489 634 623 359 655 623 376 588 430 491\n",
            " 451 400 487 424 585 244 214 491 557 523 394 586 576 664 358 374 656 336\n",
            " 407 487 408 303 490 628 480 384 259 698 505 388 285 419 556 224 214 472\n",
            " 220 668 268 559 496 536 543 469 650 349 539 635 209 454 637 328 377 285\n",
            " 350 242 429 302 623 619 691 417 590 639 556 294 231 557 275 508 565 242\n",
            " 359 500 645 280 354 453 250 660 222 443 309 672 307 450 460 312 587 482\n",
            " 297 632 291 231 363 391 641 209 558 394 408 681 366 566 412 472 554 364\n",
            " 657 465]\n"
          ],
          "name": "stdout"
        }
      ]
    },
    {
      "cell_type": "code",
      "metadata": {
        "id": "EP-MAqsmjbPB"
      },
      "source": [
        "LpUrban3=cos(f,loc,tower,user,z)"
      ],
      "execution_count": 131,
      "outputs": []
    },
    {
      "cell_type": "code",
      "metadata": {
        "colab": {
          "base_uri": "https://localhost:8080/"
        },
        "id": "VqClVa2HjdJI",
        "outputId": "e8e149ea-3782-4b1c-d79f-f9a88c174890"
      },
      "source": [
        "print(LpUrban3)"
      ],
      "execution_count": 132,
      "outputs": [
        {
          "output_type": "stream",
          "text": [
            "[174.17774333 165.16345999 157.62166686 158.97035447 158.47167452\n",
            " 174.17774333 161.79148078 162.71311238 170.64955321 158.21555405\n",
            " 162.13808407 161.79148078 157.28057907 170.8880841  168.20374882\n",
            " 174.30203447 167.81691707 169.18619393 170.40691345 173.25337176\n",
            " 162.52403253 165.39823605 173.58276099 165.51417282 172.26405393\n",
            " 173.23113618 157.62166686 168.14001008 172.59384713 174.4252385\n",
            " 166.73021071 173.81951005 165.00474014 171.82836237 162.08908841\n",
            " 172.24019916 169.36301095 160.31291631 162.23556707 173.31986868\n",
            " 173.66931265 161.58952409 161.69086436 173.96812283 158.97035447\n",
            " 168.42459021 174.19853483 171.72968429 168.487057   172.12031556\n",
            " 164.76325587 167.0444149  166.90563312 167.14761125 171.17424096\n",
            " 161.53857923 165.70530516 162.75998842 172.57054483 165.6672856\n",
            " 172.26405393 170.67625698 158.28002207 174.40477918 172.77889068\n",
            " 171.27687338 169.33369515 162.38053821 167.81691707 170.75606591\n",
            " 162.75998842 164.51755945 170.70291023 167.71852619 172.84766008\n",
            " 158.66075437 162.9920569  162.94594806 173.40804573 166.48089026\n",
            " 169.59536653 173.25337176 173.0068283  165.24215426 173.71238986\n",
            " 173.0068283  165.89387876 172.19236809 167.78419641 169.65286146\n",
            " 168.45585823 166.76547039 169.53763597 167.58626007 172.12031556\n",
            " 159.80269499 157.95469035 169.65286146 171.4294334  170.54222897\n",
            " 166.5525761  172.14437405 171.90191991 173.90462353 165.20286208\n",
            " 165.81875198 173.73387917 164.30948716 167.00984743 169.53763597\n",
            " 167.0444149  162.85327511 169.62414333 173.11942872 169.33369515\n",
            " 166.19044208 160.64307761 174.60804732 170.04888619 166.33641476\n",
            " 161.99058285 167.41916158 171.4041212  158.59800934 157.95469035\n",
            " 169.09694609 158.34419639 173.98922581 161.12424826 171.47992176\n",
            " 169.79558038 170.8880841  171.07085527 169.00712918 173.60444882\n",
            " 164.84421148 170.96670516 173.2755723  157.62166686 168.54924799\n",
            " 173.31986868 163.97004333 165.93129243 161.99058285 164.88451548\n",
            " 159.68675822 167.75139957 162.80670899 173.0068283  172.91609537\n",
            " 174.4660682  167.35176319 172.24019916 173.3640262  171.4041212\n",
            " 162.42853225 159.03146623 171.4294334  161.48744946 170.13231923\n",
            " 171.63031007 159.68675822 165.24215426 169.90872346 173.49567424\n",
            " 161.74126241 165.04458808 168.51818682 160.14488762 173.81951005\n",
            " 158.47167452 168.20374882 163.12948469 174.073323   163.0380153\n",
            " 168.42459021 168.73419031 163.26558467 172.16839151 169.39226587\n",
            " 162.57154096 173.20886545 162.28405675 159.03146623 165.39823605\n",
            " 166.44491007 173.40804573 157.62166686 171.4547002  166.5525761\n",
            " 167.0444149  174.26072582 165.51417282 171.65521943 167.1818427\n",
            " 169.09694609 171.35335993 165.43698776 173.75533574 168.88647544]\n"
          ],
          "name": "stdout"
        }
      ]
    },
    {
      "cell_type": "code",
      "metadata": {
        "id": "u0Tutgbrjg9E"
      },
      "source": [
        "z_sort=z[np.argsort(z)]\r\n",
        "Urban_sort3=LpUrban3[np.argsort(z)]"
      ],
      "execution_count": 133,
      "outputs": []
    },
    {
      "cell_type": "code",
      "metadata": {
        "colab": {
          "base_uri": "https://localhost:8080/",
          "height": 295
        },
        "id": "efHdZ5P_jjNL",
        "outputId": "a015ce6e-1d87-4ca0-a5dc-7b76ed642d62"
      },
      "source": [
        "plt.figure()\r\n",
        "plt.plot(x_sort,Urban_sort1, label='700 Mhz')\r\n",
        "plt.plot(y_sort,Urban_sort2, label='900 Mhz')\r\n",
        "plt.plot(z_sort,Urban_sort3, label='1800 Mhz')\r\n",
        "plt.legend()\r\n",
        "plt.title('Model Urban (Contoh Gambar)')\r\n",
        "plt.xlabel('Jarak (m)')\r\n",
        "plt.ylabel('Path Loss (dB)')\r\n",
        "plt.show()"
      ],
      "execution_count": 134,
      "outputs": [
        {
          "output_type": "display_data",
          "data": {
            "image/png": "[encoded data removed]",
            "text/plain": [
              "<Figure size 432x288 with 1 Axes>"
            ]
          },
          "metadata": {
            "tags": [],
            "needs_background": "light"
          }
        }
      ]
    },
    {
      "cell_type": "code",
      "metadata": {
        "id": "gN_jXMFPkjsD"
      },
      "source": [
        ""
      ],
      "execution_count": null,
      "outputs": []
    }
  ]
}